{
  "nbformat": 4,
  "nbformat_minor": 0,
  "metadata": {
    "colab": {
      "provenance": [],
      "authorship_tag": "ABX9TyOIRoV32VFhwHADowVkwigu",
      "include_colab_link": true
    },
    "kernelspec": {
      "name": "python3",
      "display_name": "Python 3"
    },
    "language_info": {
      "name": "python"
    }
  },
  "cells": [
    {
      "cell_type": "markdown",
      "metadata": {
        "id": "view-in-github",
        "colab_type": "text"
      },
      "source": [
        "<a href=\"https://colab.research.google.com/github/DMVP2/MathThesis/blob/main/Implementaci%C3%B3n_AES_David_Mauricio_Valoyes_Porras.ipynb\" target=\"_parent\"><img src=\"https://colab.research.google.com/assets/colab-badge.svg\" alt=\"Open In Colab\"/></a>"
      ]
    },
    {
      "cell_type": "markdown",
      "source": [
        "# **AES**"
      ],
      "metadata": {
        "id": "xm9_Zxy_3n_L"
      }
    },
    {
      "cell_type": "markdown",
      "source": [
        "### **Importación de módulos y librerías**"
      ],
      "metadata": {
        "id": "-ZAZkqCs3uJ1"
      }
    },
    {
      "cell_type": "code",
      "source": [
        "import numpy as np"
      ],
      "metadata": {
        "id": "0HmWnF_B3uoy"
      },
      "execution_count": 56,
      "outputs": []
    },
    {
      "cell_type": "markdown",
      "source": [
        "### **Funciones generales**"
      ],
      "metadata": {
        "id": "6jCKYpSMI1UO"
      }
    },
    {
      "cell_type": "code",
      "source": [
        "# Producto escalar entre vectores con coeficientes en el campo GF(2)\n",
        "\n",
        "def producto_punto_GF2(a, b):\n",
        "    return sum(a[i] * b[i] for i in range(len(a))) % 2\n",
        "\n",
        "# Operación XOR bit a bit entre vectores con coeficientes en el campo GF(2)\n",
        "\n",
        "def xor(a, b):\n",
        "    return [a[i] ^ b[i] for i in range(len(a))]\n",
        "\n",
        "# Función para convertir un número a su representación binaria\n",
        "\n",
        "def convertir_binario(n, bits = 4):\n",
        "    return [int(b) for b in format(n, f'0{bits}b')]"
      ],
      "metadata": {
        "id": "z7QM0KWTI0uK"
      },
      "execution_count": 57,
      "outputs": []
    },
    {
      "cell_type": "markdown",
      "source": [
        "### **S-Box reducida**"
      ],
      "metadata": {
        "id": "GNvzVxapI4WV"
      }
    },
    {
      "cell_type": "markdown",
      "source": [
        "La S-Box es una tabla de sustitución no lineal utilizada en AES, que reemplaza $n$ bits de entrada por $n$ bits de salida. Específicamente AES opera con S-Box de $8$ bits de entrada y $8$ bits de salida. Para el ejemplo del proyecto se construyó la siguiente S-Box reducida que toma $4$ bits de entrada y retorna $4$ bits en su salida:\n"
      ],
      "metadata": {
        "id": "e9tVgyoykcO0"
      }
    },
    {
      "cell_type": "markdown",
      "source": [
        "| X | R Binaria | S(X) | R Binaria |\n",
        "|:-:|:---------:|:----:|:---------:|\n",
        "| 0 |    0000   |   E  |    1110   |\n",
        "| 1 |    0001   |   4  |    0100   |\n",
        "| 2 |    0010   |   D  |    1101   |\n",
        "| 3 |    0011   |   1  |    0001   |\n",
        "| 4 |    0100   |   2  |    0010   |\n",
        "| 5 |    0101   |   F  |    1111   |\n",
        "| 6 |    0110   |   B  |    1011   |\n",
        "| 7 |    0111   |   8  |    1000   |\n",
        "| 8 |    1000   |   3  |    0011   |\n",
        "| 9 |    1001   |   A  |    1010   |\n",
        "| A |    1010   |   6  |    0110   |\n",
        "| B |    1011   |   C  |    1100   |\n",
        "| C |    1100   |   5  |    0101   |\n",
        "| D |    1101   |   9  |    1001   |\n",
        "| E |    1110   |   0  |    0000   |\n",
        "| F |    1111   |   7  |    0111   |"
      ],
      "metadata": {
        "id": "NCjYZYN5rsrA"
      }
    },
    {
      "cell_type": "code",
      "execution_count": 58,
      "metadata": {
        "colab": {
          "base_uri": "https://localhost:8080/"
        },
        "id": "QibI8Tq43iIP",
        "outputId": "ec8de8ca-fff7-41eb-8b82-5e069937b4f8"
      },
      "outputs": [
        {
          "output_type": "stream",
          "name": "stdout",
          "text": [
            "\n",
            "S-Box reducida (S-Box de 4 bits)\n",
            "\n",
            "\n",
            "Entrada (hex) | Salida (hex) | Entrada (bin)   | Salida (bin)\n",
            "-----------------------------------------------------------------\n",
            "       0      |       E      |   [0, 0, 0, 0]  | [1, 1, 1, 0]\n",
            "       1      |       4      |   [0, 0, 0, 1]  | [0, 1, 0, 0]\n",
            "       2      |       D      |   [0, 0, 1, 0]  | [1, 1, 0, 1]\n",
            "       3      |       1      |   [0, 0, 1, 1]  | [0, 0, 0, 1]\n",
            "       4      |       2      |   [0, 1, 0, 0]  | [0, 0, 1, 0]\n",
            "       5      |       F      |   [0, 1, 0, 1]  | [1, 1, 1, 1]\n",
            "       6      |       B      |   [0, 1, 1, 0]  | [1, 0, 1, 1]\n",
            "       7      |       8      |   [0, 1, 1, 1]  | [1, 0, 0, 0]\n",
            "       8      |       3      |   [1, 0, 0, 0]  | [0, 0, 1, 1]\n",
            "       9      |       A      |   [1, 0, 0, 1]  | [1, 0, 1, 0]\n",
            "       A      |       6      |   [1, 0, 1, 0]  | [0, 1, 1, 0]\n",
            "       B      |       C      |   [1, 0, 1, 1]  | [1, 1, 0, 0]\n",
            "       C      |       5      |   [1, 1, 0, 0]  | [0, 1, 0, 1]\n",
            "       D      |       9      |   [1, 1, 0, 1]  | [1, 0, 0, 1]\n",
            "       E      |       0      |   [1, 1, 1, 0]  | [0, 0, 0, 0]\n",
            "       F      |       7      |   [1, 1, 1, 1]  | [0, 1, 1, 1]\n"
          ]
        }
      ],
      "source": [
        "# Para la construcción de la S-Box se utilizaron diccionarios nativos de Python en su estructura \"llave: valor\"\n",
        "\n",
        "# Diccionario que representa la S-Box de forma hexadecimal donde la llave es la entrada y el valor es la salida\n",
        "\n",
        "s_box_reducida = {\n",
        "    0x0: 0xE, 0x1: 0x4, 0x2: 0xD, 0x3: 0x1,\n",
        "    0x4: 0x2, 0x5: 0xF, 0x6: 0xB, 0x7: 0x8,\n",
        "    0x8: 0x3, 0x9: 0xA, 0xA: 0x6, 0xB: 0xC,\n",
        "    0xC: 0x5, 0xD: 0x9, 0xE: 0x0, 0xF: 0x7\n",
        "}\n",
        "\n",
        "# Diccionario que repreenta la S-Box en forma binaria donde la llave es la entrada y el valor es la salida\n",
        "\n",
        "s_box_binario = {x: convertir_binario(s_box_reducida[x]) for x in s_box_reducida}\n",
        "\n",
        "print(\"\\nS-Box reducida (S-Box de 4 bits)\")\n",
        "print(\"\\n\")\n",
        "print(\"Entrada (hex) | Salida (hex) | Entrada (bin)   | Salida (bin)\")\n",
        "print(\"-\" * 65)\n",
        "\n",
        "# Impresión de la S-Box en forma hexadecimal y binaria\n",
        "''' Para imprimir la tabla se recorre el diccionario de la S-Box en bluce (desde el 0 hasta el 15) tomando la llave o el\n",
        "valor según corresponda y luego formatea la respectiva posición del diccionario correspondiente (s_box_reducida o s_box_binario).\n",
        "En el caso de la columnas en hexadecimal tambien formatea a mayúscula'''\n",
        "\n",
        "for x in s_box_reducida:\n",
        "    print(f\"       {x:1X}      |       {s_box_reducida[x]:1X}      |   {convertir_binario(x)}  | {s_box_binario[x]}\")"
      ]
    },
    {
      "cell_type": "markdown",
      "source": [
        "### **Tabla de aproximaciones lineales (LAT)**"
      ],
      "metadata": {
        "id": "TMO3DqOXJJrt"
      }
    },
    {
      "cell_type": "markdown",
      "source": [
        "La tabla LAT consiste en una tabla que compendia el resultado de evaluar cuantas veces se cumplen todas las posibles relaciones lineales (menos 8), es decir la cantidad de veces que todas las posibles ecuaciones de la forma $\\sum_{k \\, \\in \\, S_{1}} \\, x_{k} \\oplus \\sum_{l \\, \\in \\, S_{2}} \\, y_{l} = 0$ dados $n$ bits de entrada y $n$ bits de salida se cumplen (menos 8)."
      ],
      "metadata": {
        "id": "F4ZkYE_nr9kO"
      }
    },
    {
      "cell_type": "markdown",
      "source": [
        "El número de bits de entrada define la cantidad de posibles máscaras de entrada y el número de bits de salida define la cantidad de posibles máscaras de salida. En general se tienen $2^{n}$ máscaras siendo $n$ la cantidad de bits de entrada o de salida. Luego el tamaño de la tabla va a ser igual a la cantidad de máscaras de entrada multiplicada por la cantidad de máscaras de salida. En general el tamaño de la tabla será $2^{2n}$."
      ],
      "metadata": {
        "id": "stiiJnG-xCwK"
      }
    },
    {
      "cell_type": "code",
      "source": [
        "# La LAT muestra qué tan bien se aproxima una relación lineal entre bits de entrada y bits de salida\n",
        "\n",
        "def construir_tabla_LAT():\n",
        "    LAT = np.zeros((16, 16), dtype=int) # La tabla las es de 16 x 16 puesto que hay 4 bits de entrada y 4 bits de salida\n",
        "    for alpha in range(16): # Todas las máscaras de entrada (4 bits)\n",
        "        for beta in range(16): # Todas las máscaras de salida (4 bits)\n",
        "            count = 0\n",
        "            for x in range(16): # Probar todas las entradas posibles\n",
        "                x_bits = convertir_binario(x)\n",
        "                y_bits = s_box_binario[x]\n",
        "                if producto_punto_GF2(convertir_binario(alpha), x_bits) == producto_punto_GF2(convertir_binario(beta), y_bits): # Verificar si se cumple α·x = β·y\n",
        "                  count += 1\n",
        "            LAT[alpha][beta] = count - 8  # Valor centrado\n",
        "    return LAT\n",
        "\n",
        "LAT = construir_tabla_LAT()\n",
        "\n",
        "print(\"\\nTabla de aproximaciones lineales (LAT)\")\n",
        "print(\"\\n\")\n",
        "print(\"La posición x[i][j] corresponde al número de veces que una relación lineal se cumple menos 8\")\n",
        "print(\"\\n\")\n",
        "print(\"\\n   |  0  1  2  3  4  5  6  7  8  9  A  B  C  D  E  F\")\n",
        "print(\"-\" * 55)\n",
        "\n",
        "# Impresión en bucle de las filas de la tabla LAT\n",
        "\n",
        "for alpha in range(16):\n",
        "    print(f\" {alpha:1X} | \" + \" \".join(f\"{LAT[alpha][beta]:2}\" for beta in range(16))) # El join permite realizar un bucle interno que imprime las columnas de cada fila\n",
        "\n",
        "# Ejemplo: Sesgo para α = A (1010) y β = 9 (1001)\n",
        "\n",
        "alpha_ejemplo = 0xA\n",
        "beta_ejemplo = 0x9\n",
        "sesgo = (LAT[alpha_ejemplo][beta_ejemplo]) / 16\n",
        "probabilidad = (1 - sesgo) * 100\n",
        "\n",
        "print(\"\\nSegún la relación lineal con el sesgo mas alto se define α = i, β = j\")\n",
        "\n",
        "print(f\"\\nEjemplo: Para α = {alpha_ejemplo:X}, β = {beta_ejemplo:X}:\")\n",
        "print(f\"- N° de cumplimientos: {LAT[alpha_ejemplo][beta_ejemplo] + 8}/16\")\n",
        "print(f\"- Probabilidad de que la relación lineal se cumpla: {probabilidad}%\")\n",
        "print(f\"- Sesgo: {sesgo:.3f}\") # Se imprime el sesgo con tres decimales"
      ],
      "metadata": {
        "colab": {
          "base_uri": "https://localhost:8080/"
        },
        "id": "bjuqDqkOH25O",
        "outputId": "f3ba21cd-a58b-48d7-dbdf-61d8d27071a0"
      },
      "execution_count": 59,
      "outputs": [
        {
          "output_type": "stream",
          "name": "stdout",
          "text": [
            "\n",
            "Tabla de aproximaciones lineales (LAT)\n",
            "\n",
            "\n",
            "La posición x[i][j] corresponde al número de veces que una relación lineal se cumple menos 8\n",
            "\n",
            "\n",
            "\n",
            "   |  0  1  2  3  4  5  6  7  8  9  A  B  C  D  E  F\n",
            "-------------------------------------------------------\n",
            " 0 |  8  0  0  0  0  0  0  0  0  0  0  0  0  0  0  0\n",
            " 1 |  0  0 -2 -2  0  0 -2  6  2  2  0  0  2  2  0  0\n",
            " 2 |  0  0 -2 -2  0  0 -2 -2  0  0  2  2  0  0 -6  2\n",
            " 3 |  0  0  0  0  0  0  0  0  2 -6 -2 -2  2  2 -2 -2\n",
            " 4 |  0  2  0 -2 -2 -4 -2  0  0 -2  0  2  2 -4  2  0\n",
            " 5 |  0 -2 -2  0 -2  0  4  2 -2  0 -4  2  0 -2 -2  0\n",
            " 6 |  0  2 -2  4  2  0  0  2  0 -2  2  4 -2  0  0 -2\n",
            " 7 |  0 -2  0  2  2 -4  2  0 -2  0  2  0  4  2  0  2\n",
            " 8 |  0  0  0  0  0  0  0  0 -2  2  2 -2  2 -2 -2 -6\n",
            " 9 |  0  0 -2 -2  0  0 -2 -2 -4  0 -2  2  0  4  2 -2\n",
            " A |  0  4 -2  2 -4  0  2 -2  2  2  0  0  2  2  0  0\n",
            " B |  0  4  0 -4  4  0  4  0  0  0  0  0  0  0  0  0\n",
            " C |  0 -2  4 -2 -2  0  2  0  2  0  2  4  0  2  0 -2\n",
            " D |  0  2  2  0 -2  4  0  2 -4 -2  2  0  2  0  0  2\n",
            " E |  0  2  2  0 -2 -4  0  2 -2  0  0 -2 -4  2 -2  0\n",
            " F |  0 -2 -4 -2 -2  0  2  0  0 -2  4 -2 -2  0  2  0\n",
            "\n",
            "Según la relación lineal con el sesgo mas alto se define α = i, β = j\n",
            "\n",
            "Ejemplo: Para α = A, β = 9:\n",
            "- N° de cumplimientos: 10/16\n",
            "- Probabilidad de que la relación lineal se cumpla: 87.5%\n",
            "- Sesgo: 0.125\n"
          ]
        }
      ]
    },
    {
      "cell_type": "markdown",
      "source": [
        "### **Generación de pares $(P,C)$**"
      ],
      "metadata": {
        "id": "caUs6fiPJNhO"
      }
    },
    {
      "cell_type": "markdown",
      "source": [
        "Sea $K$ una clave de cifrado de $n$ bits, y sea $P$ un mensaje a cifrar, en el proceso de cifrado de AES primero se opera mediante XOR el bloque de datos con la clave de cifrado. Dado que se está trabajando con una sola ronda de encriptación el bloque de datos consiste en el mensaje en texto plano."
      ],
      "metadata": {
        "id": "smvWU2UnuwMt"
      }
    },
    {
      "cell_type": "markdown",
      "source": [
        "Así entonces, dado el conjunto de ejemplo de mensajes en texto plano $P = \\{0000, 0001, 0010, 0011, 0100\\}$, cada elemento del conjunto se opera con la clave de cifrado $K$ mediante XOR y luego ese resultado es enviado a su imagen según lo establecido por la S-Box."
      ],
      "metadata": {
        "id": "GIomFFxPxZte"
      }
    },
    {
      "cell_type": "code",
      "source": [
        "# Se simula un cifrado AES de una sola ronda: C = S(P ⊕ K)\n",
        "\n",
        "def cifrar(P, K_binario):\n",
        "    P_xor_K = xor(P, K_binario) # Se opera mediante XOR el bloque de datos con la clave de cifrado\n",
        "    P_xor_K_decimal = int(''.join(map(str, P_xor_K)), 2) # Convierte cada resultado de binario a decimal (el resultado será un número entre 0 y 15)\n",
        "    C_decimal = s_box_reducida[P_xor_K_decimal] # Utiliza la representación decimal del binario para buscar la imagen correspondiente por medio de la S-Box (busca la posición correspondiente de 0 a 15)\n",
        "    return convertir_binario(C_decimal)\n",
        "\n",
        "# Clave de cifrado (K = 1011)\n",
        "\n",
        "K_binario = [1, 0, 1, 1]\n",
        "K_hex = int(''.join(map(str, K_binario)), 2)\n",
        "\n",
        "# Conjunto de texto plano de ejemplo\n",
        "\n",
        "P_muestra = [\n",
        "    [0, 0, 0, 0],  # 0x0\n",
        "    [0, 0, 0, 1],  # 0x1\n",
        "    [0, 0, 1, 0],  # 0x2\n",
        "    [0, 0, 1, 1],  # 0x3\n",
        "    [0, 1, 0, 0],  # 0x4\n",
        "]\n",
        "\n",
        "# Generación de pares (P, C)\n",
        "\n",
        "pares_P_C = [] # Lista de pares (P, C)\n",
        "for P in P_muestra:\n",
        "    C = cifrar(P, K_binario) # Se utiliza la función de cifrado para generar los pares (P, C)\n",
        "    pares_P_C.append((P, C)) # Anexa cada par (P, C) a la lista\n",
        "\n",
        "# Mostrar los pares generados\n",
        "print(\"\\nPares (P, C) GENERADOS\")\n",
        "print(\"\\n\")\n",
        "print(\"      P      |    P ⊕ K    | C = S(P ⊕ K)\")\n",
        "print(\"-\" * 45)\n",
        "\n",
        "# Impresión del resultado C = S(P ⊕ K) de la ronda de cifrado mostrando los dos pasos P ⊕ K y C = S(P ⊕ K)\n",
        "\n",
        "for P, C in pares_P_C:\n",
        "    P_xor_K = xor(P, K_binario)\n",
        "    print(f\"{P} | {P_xor_K} | {C}\")"
      ],
      "metadata": {
        "colab": {
          "base_uri": "https://localhost:8080/"
        },
        "id": "JvbZB4K3H5a8",
        "outputId": "9f9cb8ab-3814-4c79-df65-d70a1a941a73"
      },
      "execution_count": 60,
      "outputs": [
        {
          "output_type": "stream",
          "name": "stdout",
          "text": [
            "\n",
            "Pares (P, C) GENERADOS\n",
            "\n",
            "\n",
            "      P      |    P ⊕ K    | C = S(P ⊕ K)\n",
            "---------------------------------------------\n",
            "[0, 0, 0, 0] | [1, 0, 1, 1] | [1, 1, 0, 0]\n",
            "[0, 0, 0, 1] | [1, 0, 1, 0] | [0, 1, 1, 0]\n",
            "[0, 0, 1, 0] | [1, 0, 0, 1] | [1, 0, 1, 0]\n",
            "[0, 0, 1, 1] | [1, 0, 0, 0] | [0, 0, 1, 1]\n",
            "[0, 1, 0, 0] | [1, 1, 1, 1] | [0, 1, 1, 1]\n"
          ]
        }
      ]
    },
    {
      "cell_type": "markdown",
      "source": [
        "### **Cálculo de la relación lineal $\\alpha \\cdot P \\oplus \\beta \\cdot C = \\alpha \\cdot K$**"
      ],
      "metadata": {
        "id": "r4DUoSFkJUMa"
      }
    },
    {
      "cell_type": "markdown",
      "source": [
        "Se aplica la relación lineal $\\alpha \\, \\cdot P \\oplus \\beta \\, \\cdot C = \\alpha \\, \\cdot K$ con $\\alpha = A = 1010$ y $\\beta = 9 = 1001$ gracias a que corresponde a una de las relaciones lineales de la tabla LAT con mayor probabilidad. Es decir que el valor de $\\alpha \\, \\cdot K$ se determinará mediante el resultado de calcular $\\alpha \\, \\cdot P \\oplus \\beta \\, \\cdot C$."
      ],
      "metadata": {
        "id": "3IkBnysI09-k"
      }
    },
    {
      "cell_type": "code",
      "source": [
        "# Se utiliza α = A (1010) y β = 9 (1001)\n",
        "\n",
        "alpha = [1, 0, 1, 0]  # 0xA (1010)\n",
        "beta = [1, 0, 0, 1]    # 0x9 (1001)\n",
        "\n",
        "# Se calcula α·P ⊕ β·C para cada par (P, C)\n",
        "\n",
        "resultados_alpha_P_beta_C = [] # Lista de resultados de calcular α·P ⊕ β·C para cada par (P, C)\n",
        "for P, C in pares_P_C:\n",
        "    term = producto_punto_GF2(alpha, P) ^ producto_punto_GF2(beta, C) # Cálculo de α·P ⊕ β·C para cada par (P, C)\n",
        "    resultados_alpha_P_beta_C.append(term)\n",
        "\n",
        "print(\"\\nResultados de la relación lineal α·P ⊕ β·C\")\n",
        "print(\"\\n\")\n",
        "print(f\"Con α = {alpha_ejemplo:X}, β = {beta_ejemplo:X}:\")\n",
        "print(\"\\n\")\n",
        "print(\"Para cada par (P, C), se calcula α·P ⊕ β·C:\")\n",
        "print(\"\\n\")\n",
        "\n",
        "# Impresión de cada resultado\n",
        "\n",
        "for i, (P, C) in enumerate(pares_P_C):\n",
        "    print(f\"P = {P}, C = {C} → α·P ⊕ β·C = {resultados_alpha_P_beta_C[i]}\")"
      ],
      "metadata": {
        "colab": {
          "base_uri": "https://localhost:8080/"
        },
        "id": "zWDg4i1lH7V6",
        "outputId": "be8a34b8-e690-491f-cf89-bd237812262f"
      },
      "execution_count": 61,
      "outputs": [
        {
          "output_type": "stream",
          "name": "stdout",
          "text": [
            "\n",
            "Resultados de la relación lineal α·P ⊕ β·C\n",
            "\n",
            "\n",
            "Con α = A, β = 9:\n",
            "\n",
            "\n",
            "Para cada par (P, C), se calcula α·P ⊕ β·C:\n",
            "\n",
            "\n",
            "P = [0, 0, 0, 0], C = [1, 1, 0, 0] → α·P ⊕ β·C = 1\n",
            "P = [0, 0, 0, 1], C = [0, 1, 1, 0] → α·P ⊕ β·C = 0\n",
            "P = [0, 0, 1, 0], C = [1, 0, 1, 0] → α·P ⊕ β·C = 0\n",
            "P = [0, 0, 1, 1], C = [0, 0, 1, 1] → α·P ⊕ β·C = 0\n",
            "P = [0, 1, 0, 0], C = [0, 1, 1, 1] → α·P ⊕ β·C = 1\n"
          ]
        }
      ]
    },
    {
      "cell_type": "markdown",
      "source": [
        "### **Evaluación de las claves candidatas**"
      ],
      "metadata": {
        "id": "t9woomtCKiBn"
      }
    },
    {
      "cell_type": "markdown",
      "source": [],
      "metadata": {
        "id": "L4-Gog2zEz8O"
      }
    },
    {
      "cell_type": "markdown",
      "source": [
        "Dado que la clave es de $4$ bits, existen $16$ claves $(2^{4})$ candidatas que corresponden a todas las posibles combinaciones de bits en $0$ y bits en $1$ en un arreglo de $4$ bits, por lo cual todas las posibles claves candidatas corresponden al conjunto: $\\{0000, 0001, 0010, 0100, 1000, 1001, 1010, 1100, 0101, 0110, 0011, 1011, 1110, 0111, 1101, 1111\\}$"
      ],
      "metadata": {
        "id": "qGfrKm6EKkGV"
      }
    },
    {
      "cell_type": "markdown",
      "source": [
        "Para cada clave candidata se calcula $\\alpha \\, \\cdot K$, y luego se compara con el resultado de $\\alpha \\cdot P \\oplus \\beta \\cdot C$, es decir se verifica cuantas veces se cumple que $\\alpha \\cdot P \\oplus \\beta \\cdot C = \\alpha \\, \\cdot K$"
      ],
      "metadata": {
        "id": "ZJ2F1aPOEGcW"
      }
    },
    {
      "cell_type": "code",
      "source": [
        "# Se evaluan todas las claves candidatas (16 posibles)\n",
        "\n",
        "claves_candidatas = [convertir_binario(k) for k in range(16)] # Se convierten a binario todas las posibles claves candidatas\n",
        "claves_candidatas_coincidencias = {} # Se define una lista que almacenará la cantidad de veces que se cumple que α·P ⊕ β·C = a·K\n",
        "\n",
        "for candidata in claves_candidatas:\n",
        "    alpha_K = producto_punto_GF2(alpha, candidata) # Cálculo de α·K\n",
        "    coincidencias = sum(1 for resultado in resultados_alpha_P_beta_C if resultado == alpha_K) # Se suma 1 al resultado cada vez que se cumple que α·P ⊕ β·C = a·K\n",
        "    claves_candidatas_coincidencias[int(''.join(map(str, candidata)), 2)] = coincidencias\n",
        "\n",
        "print(\"\\nCoincidencia del cálculo de α·K de las claves candidatas frente al cálculo α·K de la relación lineal α·P ⊕ β·C = α·K\")\n",
        "print(\"\\n\")\n",
        "print(\"Clave (bin)  | Coincidencias/5\")\n",
        "print(\"-\" * 30)\n",
        "\n",
        "# Impresión de la cantidad de veces que u\n",
        "\n",
        "for key, coincidencias in sorted(claves_candidatas_coincidencias.items(), key=lambda x: -x[1]):\n",
        "    print(f\"{convertir_binario(key)} |      {coincidencias}/5\")"
      ],
      "metadata": {
        "colab": {
          "base_uri": "https://localhost:8080/"
        },
        "id": "opyXwBqRKe5w",
        "outputId": "32ab0b08-60be-499e-92b9-9fe7bf549f5a"
      },
      "execution_count": 62,
      "outputs": [
        {
          "output_type": "stream",
          "name": "stdout",
          "text": [
            "\n",
            "Coincidencia del cálculo de α·K de las claves candidatas frente al cálculo α·K de la relación lineal α·P ⊕ β·C = α·K\n",
            "\n",
            "\n",
            "Clave (bin)  | Coincidencias/5\n",
            "------------------------------\n",
            "[0, 0, 0, 0] |      3/5\n",
            "[0, 0, 0, 1] |      3/5\n",
            "[0, 1, 0, 0] |      3/5\n",
            "[0, 1, 0, 1] |      3/5\n",
            "[1, 0, 1, 0] |      3/5\n",
            "[1, 0, 1, 1] |      3/5\n",
            "[1, 1, 1, 0] |      3/5\n",
            "[1, 1, 1, 1] |      3/5\n",
            "[0, 0, 1, 0] |      2/5\n",
            "[0, 0, 1, 1] |      2/5\n",
            "[0, 1, 1, 0] |      2/5\n",
            "[0, 1, 1, 1] |      2/5\n",
            "[1, 0, 0, 0] |      2/5\n",
            "[1, 0, 0, 1] |      2/5\n",
            "[1, 1, 0, 0] |      2/5\n",
            "[1, 1, 0, 1] |      2/5\n"
          ]
        }
      ]
    },
    {
      "cell_type": "markdown",
      "source": [
        "### **Filtrado de las claves mas propables basados en el sesgo obtenido**"
      ],
      "metadata": {
        "id": "Vaw1o8sjNozN"
      }
    },
    {
      "cell_type": "markdown",
      "source": [
        "Se seleccionan aquellas claves que tengan una mayor cantidad de coincidencias, lo que es equivalente a decir que tienen el sesgo mas alto puesto que su resultado luego de restar $1/2$ será mas alto"
      ],
      "metadata": {
        "id": "A3vwbICOJNpQ"
      }
    },
    {
      "cell_type": "code",
      "source": [
        "# Filtrar claves más probables (mayor cantidad de coincidencias)\n",
        "\n",
        "claves_probables = [k for k, score in claves_candidatas_coincidencias.items() if score == max(claves_candidatas_coincidencias.values())] # Se seleccionan aquellas claves candidatas cuya cantidad de coincidencias sea igual al máximo de coincidencias\n",
        "\n",
        "print(\"\\nFiltrado de las claves mas probables\")\n",
        "print(\"\\n\")\n",
        "for key in claves_probables:\n",
        "    print(f\"- {convertir_binario(key)} (hex {key:X})\")\n",
        "\n",
        "# Verificar si la clave verdadera está entre las candidatas\n",
        "\n",
        "print(f\"Clave verdadera: {K_binario} (hex {K_hex:X})\")\n",
        "print(\"\\n\")\n",
        "print(\"¿Está entre las claves probables?\", \"Si\" if K_hex in claves_probables else \"No\") # Se utiliza el operador ternario para verificar si la clave real está entre las claves candidatas mas probables"
      ],
      "metadata": {
        "colab": {
          "base_uri": "https://localhost:8080/"
        },
        "id": "x4dtuBUAKhOn",
        "outputId": "aac577b2-c6c0-4ea1-c98e-2aa69be8ecf3"
      },
      "execution_count": 63,
      "outputs": [
        {
          "output_type": "stream",
          "name": "stdout",
          "text": [
            "\n",
            "Filtrado de las claves mas probables\n",
            "\n",
            "\n",
            "- [0, 0, 0, 0] (hex 0)\n",
            "- [0, 0, 0, 1] (hex 1)\n",
            "- [0, 1, 0, 0] (hex 4)\n",
            "- [0, 1, 0, 1] (hex 5)\n",
            "- [1, 0, 1, 0] (hex A)\n",
            "- [1, 0, 1, 1] (hex B)\n",
            "- [1, 1, 1, 0] (hex E)\n",
            "- [1, 1, 1, 1] (hex F)\n",
            "Clave verdadera: [1, 0, 1, 1] (hex B)\n",
            "\n",
            "\n",
            "¿Está entre las claves probables? Si\n"
          ]
        }
      ]
    }
  ]
}